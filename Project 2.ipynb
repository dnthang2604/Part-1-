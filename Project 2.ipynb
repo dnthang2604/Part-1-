{
 "cells": [
  {
   "cell_type": "markdown",
   "id": "459774b1",
   "metadata": {},
   "source": [
    "# Exploring Hackers News Posts\n",
    "\n",
    "In this project, we'll compare two different types of posts from Hacker News, a popular site where technology related stories (or 'posts') are voted and commented upon. The two types of posts we'll explore begin with either Ask HN or Show HN.\n",
    "\n",
    "Users submit Ask HN posts to ask the Hacker News community a specific question, such as \"What is the best online course you've ever taken?\" Likewise, users submit Show HN posts to show the Hacker News community a project, product, or just generally something interesting.\n",
    "\n",
    "We'll specifically compare these two types of posts to determine the following:\n",
    "\n",
    "Do **Ask HN** or **Show HN** receive more comments on average?\n",
    "Do posts created at a certain time receive more comments on average?\n",
    "It should be noted that the data set we're working with was reduced from almost **300,000** rows to approximately **20,000** rows by removing all submissions that did not receive any comments, and then randomly sampling from the remaining submissions."
   ]
  },
  {
   "cell_type": "markdown",
   "id": "2063e39a",
   "metadata": {},
   "source": [
    "## Introduction\n",
    "\n",
    "First, we'll read in the data and remove the headers."
   ]
  },
  {
   "cell_type": "code",
   "execution_count": 1,
   "id": "6dc49e8c",
   "metadata": {},
   "outputs": [
    {
     "name": "stdout",
     "output_type": "stream",
     "text": [
      "['id', 'title', 'url', 'num_points', 'num_comments', 'author', 'created_at']\n",
      "['12224879', 'Interactive Dynamic Video', 'http://www.interactivedynamicvideo.com/', '386', '52', 'ne0phyte', '8/4/2016 11:52']\n",
      "\n",
      "\n",
      "['10975351', 'How to Use Open Source and Shut the Fuck Up at the Same Time', 'http://hueniverse.com/2016/01/26/how-to-use-open-source-and-shut-the-fuck-up-at-the-same-time/', '39', '10', 'josep2', '1/26/2016 19:30']\n",
      "\n",
      "\n",
      "['11964716', \"Florida DJs May Face Felony for April Fools' Water Joke\", 'http://www.thewire.com/entertainment/2013/04/florida-djs-april-fools-water-joke/63798/', '2', '1', 'vezycash', '6/23/2016 22:20']\n",
      "\n",
      "\n",
      "['11919867', 'Technology ventures: From Idea to Enterprise', 'https://www.amazon.com/Technology-Ventures-Enterprise-Thomas-Byers/dp/0073523429', '3', '1', 'hswarna', '6/17/2016 0:01']\n",
      "\n",
      "\n",
      "['10301696', 'Note by Note: The Making of Steinway L1037 (2007)', 'http://www.nytimes.com/2007/11/07/movies/07stein.html?_r=0', '8', '2', 'walterbell', '9/30/2015 4:12']\n",
      "\n",
      "\n"
     ]
    }
   ],
   "source": [
    "# Read in the data.\n",
    "from csv import reader\n",
    "opened_file = open('/Users/number1/2024/Data/Project 2/hacker_news.csv')\n",
    "read_file = reader(opened_file)\n",
    "hack_news = list(read_file)\n",
    "\n",
    "#Remove Header.\n",
    "hn_header = hack_news[0]\n",
    "hn = hack_news[1:]\n",
    "print(hn_header)\n",
    "for n in hn[:5]:\n",
    "    print(n)\n",
    "    print('\\n')"
   ]
  },
  {
   "cell_type": "markdown",
   "id": "b0f80a51",
   "metadata": {},
   "source": [
    "## Extracting Ask HN and Show HN Posts\n",
    "\n",
    "First, we'll identify posts that begin with either **Ask HN** or **Show HN** and separate the data for those two types of posts into different lists. Separating the data makes it easier to analyze in the following steps."
   ]
  },
  {
   "cell_type": "code",
   "execution_count": 2,
   "id": "c5840619",
   "metadata": {},
   "outputs": [
    {
     "name": "stdout",
     "output_type": "stream",
     "text": [
      "We have 1744 ask HN posts\n",
      "We have 1162 show HN posts\n",
      "We have 17194 other posts\n"
     ]
    }
   ],
   "source": [
    "# Identify posts that begin with either `Ask HN` or `Show HN` and separate the data into different lists.\n",
    "ask_posts = []\n",
    "show_posts = []\n",
    "other_posts = []\n",
    "for post in hn:\n",
    "    post_name = post[1].lower()\n",
    "    if post_name.startswith('ask hn'):\n",
    "        ask_posts.append(post)\n",
    "    elif post_name.startswith('show hn'):\n",
    "            show_posts.append(post)\n",
    "    else:\n",
    "        other_posts.append(post)\n",
    "print('We have',len(ask_posts), 'ask HN posts')\n",
    "print('We have',len(show_posts), 'show HN posts')\n",
    "print('We have', len(other_posts),'other posts')"
   ]
  },
  {
   "cell_type": "code",
   "execution_count": 3,
   "id": "d25490b3",
   "metadata": {},
   "outputs": [
    {
     "name": "stdout",
     "output_type": "stream",
     "text": [
      "20100\n",
      "20100\n"
     ]
    }
   ],
   "source": [
    "# Check if it's all the data\n",
    "print(len(hn))\n",
    "print(len(ask_posts) + len(show_posts) + len(other_posts))"
   ]
  },
  {
   "cell_type": "markdown",
   "id": "050807a9",
   "metadata": {},
   "source": [
    "## Calculating the Average Number of Comments for Ask HN and Show HN Posts\n",
    "\n",
    "Now that we separated ask posts and show posts into different lists, we'll calculate the average number of comments each type of post receives."
   ]
  },
  {
   "cell_type": "code",
   "execution_count": 4,
   "id": "c9683758",
   "metadata": {},
   "outputs": [],
   "source": [
    "#Create a function that calculate the average number\n",
    "def avg(data,index):\n",
    "    total = 0\n",
    "    for row in data:\n",
    "        value = int(row[index])\n",
    "        total += value\n",
    "    average = total/ len(data)\n",
    "    return average     "
   ]
  },
  {
   "cell_type": "code",
   "execution_count": 5,
   "id": "7364bc42",
   "metadata": {},
   "outputs": [
    {
     "name": "stdout",
     "output_type": "stream",
     "text": [
      "The average number of comments for ask posts is 14.038417431192661\n",
      "\n",
      "\n",
      "The average number of comments for show posts is 10.31669535283993\n",
      "\n",
      "\n",
      "The average number of comments for other posts is 26.8730371059672\n"
     ]
    }
   ],
   "source": [
    "#calculate the average number of comments for ask, show and other post:\n",
    "avg_ask = avg(ask_posts,4)\n",
    "avg_show = avg(show_posts,4)\n",
    "avg_other = avg(other_posts,4)\n",
    "template = 'The average number of comments for {} posts is {}'\n",
    "print(template.format('ask',avg_ask))\n",
    "print('\\n')\n",
    "print(template.format('show',avg_show))\n",
    "print('\\n')\n",
    "print(template.format('other',avg_other))"
   ]
  },
  {
   "cell_type": "markdown",
   "id": "dd2c805c",
   "metadata": {},
   "source": [
    "On average, ask posts in our sample receive approximately 14 comments, whereas show posts receive approximately 10. Since ask posts are more likely to receive comments, we'll focus our remaining analysis just on these posts."
   ]
  },
  {
   "cell_type": "markdown",
   "id": "e7f68553",
   "metadata": {},
   "source": [
    "## Finding the Amount of Ask and Show Posts and Comments by Hour Created\n",
    "\n",
    "Next, we'll determine if we can maximize the amount of comments an ask, show post receives by creating it at a certain time. First, we'll find the amount of ask, show posts created during each hour of day, along with the number of comments those posts received. Then, we'll calculate the average amount of comments ask, show posts created at each hour of the day receive."
   ]
  },
  {
   "cell_type": "code",
   "execution_count": 6,
   "id": "6eb950af",
   "metadata": {},
   "outputs": [],
   "source": [
    "# Function to clean data(turn date and time to only hour)\n",
    "import datetime as dt\n",
    "def cleantime(data,index_1=4, index_2=-1):\n",
    "    cleaned_time_posts = []\n",
    "    for post in data:\n",
    "        comments = int(post[index_1])\n",
    "        date_time = post[index_2]\n",
    "        date_time = dt.datetime.strptime(date_time,'%m/%d/%Y %H:%M').strftime('%H')\n",
    "        cleaned_time_posts.append([comments,date_time])\n",
    "    return cleaned_time_posts   "
   ]
  },
  {
   "cell_type": "code",
   "execution_count": 7,
   "id": "2a4bf409",
   "metadata": {},
   "outputs": [
    {
     "name": "stdout",
     "output_type": "stream",
     "text": [
      "[[6, '09'], [29, '13'], [1, '10']]\n",
      "\n",
      "\n",
      "[[22, '14'], [102, '22'], [1, '18']]\n"
     ]
    }
   ],
   "source": [
    "#Clean data:\n",
    "cleaned_ask_posts = cleantime(ask_posts)\n",
    "cleaned_show_posts = cleantime(show_posts)\n",
    "print(cleaned_ask_posts[:3])\n",
    "print('\\n')\n",
    "print(cleaned_show_posts[:3])"
   ]
  },
  {
   "cell_type": "code",
   "execution_count": 8,
   "id": "1a896eb1",
   "metadata": {},
   "outputs": [],
   "source": [
    "# Function to calculate the amount of ask posts created during each hour of day and the number of comments received\n",
    "def calculate(data, index_1=0, index_2=1):\n",
    "    dic_total = {}\n",
    "    freq = {}\n",
    "    for post in data:\n",
    "        comments = post[index_1]\n",
    "        hour = post[index_2]\n",
    "        if hour in freq:\n",
    "            freq[hour] += 1 \n",
    "            dic_total[hour] += comments\n",
    "        else:\n",
    "            freq[hour] = 1\n",
    "            dic_total[hour] = comments\n",
    "    return dic_total, freq"
   ]
  },
  {
   "cell_type": "code",
   "execution_count": 9,
   "id": "577a0b64",
   "metadata": {
    "scrolled": true
   },
   "outputs": [
    {
     "name": "stdout",
     "output_type": "stream",
     "text": [
      "{'09': 251, '13': 1253, '10': 793, '14': 1416, '16': 1814, '23': 543, '12': 687, '17': 1146, '15': 4477, '21': 1745, '20': 1722, '02': 1381, '18': 1439, '03': 421, '05': 464, '19': 1188, '01': 683, '22': 479, '08': 492, '04': 337, '00': 447, '06': 397, '07': 267, '11': 641}\n",
      "\n",
      "\n",
      "{'09': 45, '13': 85, '10': 59, '14': 107, '16': 108, '23': 68, '12': 73, '17': 100, '15': 116, '21': 109, '20': 80, '02': 58, '18': 109, '03': 54, '05': 46, '19': 110, '01': 60, '22': 71, '08': 48, '04': 47, '00': 55, '06': 44, '07': 34, '11': 58}\n",
      "\n",
      "\n",
      "{'14': 1156, '22': 570, '18': 962, '07': 299, '20': 612, '05': 58, '16': 1084, '19': 539, '15': 632, '03': 287, '17': 911, '06': 142, '02': 127, '13': 946, '08': 165, '21': 272, '04': 247, '11': 491, '12': 720, '23': 447, '09': 291, '01': 246, '10': 297, '00': 487}\n",
      "\n",
      "\n",
      "{'14': 86, '22': 46, '18': 61, '07': 26, '20': 60, '05': 19, '16': 93, '19': 55, '15': 78, '03': 27, '17': 93, '06': 16, '02': 30, '13': 99, '08': 34, '21': 47, '04': 26, '11': 44, '12': 61, '23': 36, '09': 30, '01': 28, '10': 36, '00': 31}\n"
     ]
    }
   ],
   "source": [
    "total_ask_comments_hour, freq_ask_hour = calculate(cleaned_ask_posts)\n",
    "total_show_comments_hour, freq_show_hour = calculate(cleaned_show_posts)\n",
    "print(total_ask_comments_hour)\n",
    "print('\\n')\n",
    "print(freq_ask_hour)\n",
    "print('\\n')\n",
    "print(total_show_comments_hour)\n",
    "print('\\n')\n",
    "print(freq_show_hour)"
   ]
  },
  {
   "cell_type": "markdown",
   "id": "aaa48c97",
   "metadata": {},
   "source": [
    "## Calculating the Average Number of Comments for Ask HN Posts by Hour"
   ]
  },
  {
   "cell_type": "code",
   "execution_count": 10,
   "id": "0722e8b9",
   "metadata": {},
   "outputs": [],
   "source": [
    "# Funtion to calculate the Average\n",
    "def avg(data,index_1=0, index2=1):\n",
    "    avg = {}\n",
    "    dic_total, freq = calculate(data)\n",
    "    for hour in freq:\n",
    "        avg[hour] = round(dic_total[hour]/freq[hour],2)\n",
    "    return avg"
   ]
  },
  {
   "cell_type": "code",
   "execution_count": 11,
   "id": "bbec62df",
   "metadata": {
    "scrolled": true
   },
   "outputs": [
    {
     "name": "stdout",
     "output_type": "stream",
     "text": [
      "{'09': 5.58, '13': 14.74, '10': 13.44, '14': 13.23, '16': 16.8, '23': 7.99, '12': 9.41, '17': 11.46, '15': 38.59, '21': 16.01, '20': 21.52, '02': 23.81, '18': 13.2, '03': 7.8, '05': 10.09, '19': 10.8, '01': 11.38, '22': 6.75, '08': 10.25, '04': 7.17, '00': 8.13, '06': 9.02, '07': 7.85, '11': 11.05}\n",
      "\n",
      "\n",
      "{'14': 13.44, '22': 12.39, '18': 15.77, '07': 11.5, '20': 10.2, '05': 3.05, '16': 11.66, '19': 9.8, '15': 8.1, '03': 10.63, '17': 9.8, '06': 8.88, '02': 4.23, '13': 9.56, '08': 4.85, '21': 5.79, '04': 9.5, '11': 11.16, '12': 11.8, '23': 12.42, '09': 9.7, '01': 8.79, '10': 8.25, '00': 15.71}\n"
     ]
    }
   ],
   "source": [
    "avg_ask_posts = avg(cleaned_ask_posts)\n",
    "avg_show_posts = avg(cleaned_show_posts)\n",
    "print(avg_ask_posts)\n",
    "print('\\n')\n",
    "print(avg_show_posts)"
   ]
  },
  {
   "cell_type": "markdown",
   "id": "de8d7b28",
   "metadata": {},
   "source": [
    "## Sorting and Printing Values from a List of Lists"
   ]
  },
  {
   "cell_type": "code",
   "execution_count": 12,
   "id": "7047ded9",
   "metadata": {},
   "outputs": [],
   "source": [
    "#Function to sort and display in a following time:\n",
    "def display(data):\n",
    "    display_table = []\n",
    "    for hour in data:\n",
    "        display_table.append([hour,data[hour]])\n",
    "    display_table = sorted(display_table)\n",
    "    for hour in display_table:\n",
    "        a_hour = dt.datetime.strptime(hour[0], \"%H\").strftime(\"%H:%M\")\n",
    "        avg = hour[1]\n",
    "        print(a_hour,' : ', avg)"
   ]
  },
  {
   "cell_type": "code",
   "execution_count": 13,
   "id": "9f15a3b5",
   "metadata": {},
   "outputs": [],
   "source": [
    "#Function show top 5 hours that have the largest amount of comments\n",
    "def top5(data):\n",
    "    display_table = []\n",
    "    for hour in data:\n",
    "        display_table.append([data[hour],hour])\n",
    "    display_table = sorted(display_table, reverse =True)\n",
    "    template ='{} : {} average comments per post'\n",
    "    for hour in display_table[:5]:\n",
    "        a_hour = dt.datetime.strptime(hour[1], \"%H\").strftime(\"%H:%M\")\n",
    "        avg = hour[0]\n",
    "        print(template.format(a_hour,avg))"
   ]
  },
  {
   "cell_type": "markdown",
   "id": "ca3f413a",
   "metadata": {},
   "source": [
    "## Ask HN Post:"
   ]
  },
  {
   "cell_type": "code",
   "execution_count": 14,
   "id": "7b1e926e",
   "metadata": {},
   "outputs": [
    {
     "name": "stdout",
     "output_type": "stream",
     "text": [
      "Average of comments for hour in Ask HN posts:\n",
      "00:00  :  8.13\n",
      "01:00  :  11.38\n",
      "02:00  :  23.81\n",
      "03:00  :  7.8\n",
      "04:00  :  7.17\n",
      "05:00  :  10.09\n",
      "06:00  :  9.02\n",
      "07:00  :  7.85\n",
      "08:00  :  10.25\n",
      "09:00  :  5.58\n",
      "10:00  :  13.44\n",
      "11:00  :  11.05\n",
      "12:00  :  9.41\n",
      "13:00  :  14.74\n",
      "14:00  :  13.23\n",
      "15:00  :  38.59\n",
      "16:00  :  16.8\n",
      "17:00  :  11.46\n",
      "18:00  :  13.2\n",
      "19:00  :  10.8\n",
      "20:00  :  21.52\n",
      "21:00  :  16.01\n",
      "22:00  :  6.75\n",
      "23:00  :  7.99\n"
     ]
    }
   ],
   "source": [
    "print('Average of comments for hour in Ask HN posts:')\n",
    "display(avg_ask_posts)"
   ]
  },
  {
   "cell_type": "code",
   "execution_count": 15,
   "id": "f13293bf",
   "metadata": {
    "scrolled": true
   },
   "outputs": [
    {
     "name": "stdout",
     "output_type": "stream",
     "text": [
      "Top 5 Hours for 'Ask HN' Comments\n",
      "15:00 : 38.59 average comments per post\n",
      "02:00 : 23.81 average comments per post\n",
      "20:00 : 21.52 average comments per post\n",
      "16:00 : 16.8 average comments per post\n",
      "21:00 : 16.01 average comments per post\n"
     ]
    }
   ],
   "source": [
    "print(\"Top 5 Hours for 'Ask HN' Comments\")\n",
    "top5(avg_ask_posts)"
   ]
  },
  {
   "cell_type": "markdown",
   "id": "4d018bf9",
   "metadata": {},
   "source": [
    "The hour that receives the most comments per post on average is 15:00, with an average of 38.59 comments per post. There's about a 60% increase in the number of comments between the hours with the highest and second highest average number of comments.\n",
    "\n",
    "According to the data set documentation, the timezone used is Eastern Time in the US. So, we could also write 15:00 as 3:00 pm est."
   ]
  },
  {
   "cell_type": "markdown",
   "id": "3b80f841",
   "metadata": {},
   "source": [
    "## Show HN Post:"
   ]
  },
  {
   "cell_type": "code",
   "execution_count": 17,
   "id": "9565985d",
   "metadata": {},
   "outputs": [
    {
     "name": "stdout",
     "output_type": "stream",
     "text": [
      "Average of comments for hour in Show HN posts:\n",
      "00:00  :  15.71\n",
      "01:00  :  8.79\n",
      "02:00  :  4.23\n",
      "03:00  :  10.63\n",
      "04:00  :  9.5\n",
      "05:00  :  3.05\n",
      "06:00  :  8.88\n",
      "07:00  :  11.5\n",
      "08:00  :  4.85\n",
      "09:00  :  9.7\n",
      "10:00  :  8.25\n",
      "11:00  :  11.16\n",
      "12:00  :  11.8\n",
      "13:00  :  9.56\n",
      "14:00  :  13.44\n",
      "15:00  :  8.1\n",
      "16:00  :  11.66\n",
      "17:00  :  9.8\n",
      "18:00  :  15.77\n",
      "19:00  :  9.8\n",
      "20:00  :  10.2\n",
      "21:00  :  5.79\n",
      "22:00  :  12.39\n",
      "23:00  :  12.42\n"
     ]
    }
   ],
   "source": [
    "print('Average of comments for hour in Show HN posts:')\n",
    "display(avg_show_posts)"
   ]
  },
  {
   "cell_type": "code",
   "execution_count": 16,
   "id": "d1af771e",
   "metadata": {
    "scrolled": true
   },
   "outputs": [
    {
     "name": "stdout",
     "output_type": "stream",
     "text": [
      "Top 5 Hours for 'Show HN' Comments\n",
      "18:00 : 15.77 average comments per post\n",
      "00:00 : 15.71 average comments per post\n",
      "14:00 : 13.44 average comments per post\n",
      "23:00 : 12.42 average comments per post\n",
      "22:00 : 12.39 average comments per post\n"
     ]
    }
   ],
   "source": [
    "print(\"Top 5 Hours for 'Show HN' Comments\")\n",
    "top5(avg_show_posts)"
   ]
  },
  {
   "cell_type": "markdown",
   "id": "b5f24c67",
   "metadata": {},
   "source": [
    "The hour that receives the most comments per post on average is 18:00, with an average of 15,77 comments per post. There's about a 52% increase in the number of comments between the hours with the highest and the average number of comments, And there isn't a big difference between 18:00 and 00:00 (15.77 - 15.71)\n",
    "According to the data set documentation, the timezone used is Eastern Time in the US. So, we could also write 18:00 as 6:00 pm est."
   ]
  },
  {
   "cell_type": "markdown",
   "id": "00db38bc",
   "metadata": {},
   "source": [
    "## Conclusion"
   ]
  },
  {
   "cell_type": "markdown",
   "id": "c4fb3593",
   "metadata": {},
   "source": [
    "In this project, we analyzed ask, show posts and show posts to determine which type of post and time receive the most comments on average. Based on our analysis, to maximize the amount of comments a post receives, we'd recommend the post be categorized as ask post and created between 15:00 and 16:00. For show posts we'd recommend the post be created between 18:00 and 19:00, 00:00 and 01:00."
   ]
  }
 ],
 "metadata": {
  "kernelspec": {
   "display_name": "Python 3 (ipykernel)",
   "language": "python",
   "name": "python3"
  },
  "language_info": {
   "codemirror_mode": {
    "name": "ipython",
    "version": 3
   },
   "file_extension": ".py",
   "mimetype": "text/x-python",
   "name": "python",
   "nbconvert_exporter": "python",
   "pygments_lexer": "ipython3",
   "version": "3.10.9"
  }
 },
 "nbformat": 4,
 "nbformat_minor": 5
}
