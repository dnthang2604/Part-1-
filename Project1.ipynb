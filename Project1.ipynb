{
 "cells": [
  {
   "cell_type": "markdown",
   "id": "3fa47fb9",
   "metadata": {},
   "source": [
    "# Analyzing Mobile App Data\n",
    "1. For this project, we'll pretend we're working as data analysts for a company that builds Android and iOS mobile apps. We make our apps available on Google Play and in the App Store. We only build apps that are free to download and install, and our main source of revenue consists of in-app ads. This means that the number of users of our apps determines our revenue for any given app — the more users who see and engage with the ads, the better.\n",
    "2. Our goal for this project is to analyze data to help our developers understand what type of apps are likely to attract more users."
   ]
  },
  {
   "cell_type": "markdown",
   "id": "aafa7fbb",
   "metadata": {},
   "source": [
    "## PART 1 - Explore and clean data"
   ]
  },
  {
   "cell_type": "markdown",
   "id": "d603d969",
   "metadata": {},
   "source": [
    "## Opening and Exploring the Data"
   ]
  },
  {
   "cell_type": "code",
   "execution_count": 1,
   "id": "1239073a",
   "metadata": {},
   "outputs": [],
   "source": [
    "from csv import reader"
   ]
  },
  {
   "cell_type": "code",
   "execution_count": 2,
   "id": "d8d3e77b",
   "metadata": {},
   "outputs": [],
   "source": [
    "def extract(data_file):\n",
    "    opened_file = open(data_file)\n",
    "    read_file = reader(opened_file)\n",
    "    app_data = list(read_file)\n",
    "    return app_data"
   ]
  },
  {
   "cell_type": "code",
   "execution_count": 3,
   "id": "23ce2ee8",
   "metadata": {},
   "outputs": [],
   "source": [
    "android_data = extract('/Users/number1/2024/Data/Project1/Android/googleplaystore.csv')\n",
    "android_header = android_data[0]\n",
    "android = android_data[1:]\n",
    "ios_data = extract('/Users/number1/2024/Data/Project1/Appstore/AppleStore.csv')\n",
    "ios_header = ios_data[0]\n",
    "ios = ios_data[1:]"
   ]
  },
  {
   "cell_type": "code",
   "execution_count": 4,
   "id": "e4e2f264",
   "metadata": {},
   "outputs": [],
   "source": [
    "def explore_data(data,start=0,end=3,rows_and_columns = False):\n",
    "    for row in data[start:end]:\n",
    "            print(row)\n",
    "            print('\\n')\n",
    "    if rows_and_columns:\n",
    "        print('number of row:',len(data))\n",
    "        print('number of column:',len(data[0]))"
   ]
  },
  {
   "cell_type": "code",
   "execution_count": 5,
   "id": "2f43dfde",
   "metadata": {},
   "outputs": [
    {
     "name": "stdout",
     "output_type": "stream",
     "text": [
      "['App', 'Category', 'Rating', 'Reviews', 'Size', 'Installs', 'Type', 'Price', 'Content Rating', 'Genres', 'Last Updated', 'Current Ver', 'Android Ver']\n",
      "\n",
      "\n",
      "['Photo Editor & Candy Camera & Grid & ScrapBook', 'ART_AND_DESIGN', '4.1', '159', '19M', '10,000+', 'Free', '0', 'Everyone', 'Art & Design', 'January 7, 2018', '1.0.0', '4.0.3 and up']\n",
      "\n",
      "\n",
      "['Coloring book moana', 'ART_AND_DESIGN', '3.9', '967', '14M', '500,000+', 'Free', '0', 'Everyone', 'Art & Design;Pretend Play', 'January 15, 2018', '2.0.0', '4.0.3 and up']\n",
      "\n",
      "\n",
      "number of row: 10842\n",
      "number of column: 13\n"
     ]
    }
   ],
   "source": [
    "explore_data(android_data,rows_and_columns= True)"
   ]
  },
  {
   "cell_type": "markdown",
   "id": "90f628ef",
   "metadata": {},
   "source": [
    "When we look at android_data, there're 10842 rows, 13 column and some useful columns that that fit our aim are: App, Category, Rating, Review, Installs, Type, Genre."
   ]
  },
  {
   "cell_type": "code",
   "execution_count": 6,
   "id": "a24f0765",
   "metadata": {},
   "outputs": [
    {
     "name": "stdout",
     "output_type": "stream",
     "text": [
      "['', 'id', 'track_name', 'size_bytes', 'currency', 'price', 'rating_count_tot', 'rating_count_ver', 'user_rating', 'user_rating_ver', 'ver', 'cont_rating', 'prime_genre', 'sup_devices.num', 'ipadSc_urls.num', 'lang.num', 'vpp_lic']\n",
      "\n",
      "\n",
      "['1', '281656475', 'PAC-MAN Premium', '100788224', 'USD', '3.99', '21292', '26', '4', '4.5', '6.3.5', '4+', 'Games', '38', '5', '10', '1']\n",
      "\n",
      "\n",
      "['2', '281796108', 'Evernote - stay organized', '158578688', 'USD', '0', '161065', '26', '4', '3.5', '8.2.2', '4+', 'Productivity', '37', '5', '23', '1']\n",
      "\n",
      "\n",
      "number of row: 7198\n",
      "number of column: 17\n"
     ]
    }
   ],
   "source": [
    "explore_data(ios_data,rows_and_columns= True)"
   ]
  },
  {
   "cell_type": "markdown",
   "id": "ccc9b1b0",
   "metadata": {},
   "source": [
    "We have 7197 iOS apps in this data set, and the columns that seem interesting are: 'track_name', 'currency', 'price', 'rating_count_tot', 'rating_count_ver', and 'prime_genre'."
   ]
  },
  {
   "cell_type": "markdown",
   "id": "620b55b0",
   "metadata": {},
   "source": [
    "-------------------------------------------------"
   ]
  },
  {
   "cell_type": "markdown",
   "id": "d6b3ef9e",
   "metadata": {},
   "source": [
    "## Deleting Wrong Data\n",
    "\n",
    "Recall that at our company, we only build apps that are free to download and install, and we design them for an English-speaking audience. This means that we'll need to do the following:\n",
    "\n",
    "1. Remove non-English apps like 爱奇艺PPS -《欢乐颂2》电视剧热播.\n",
    "2. Remove apps that aren't free."
   ]
  },
  {
   "cell_type": "code",
   "execution_count": 7,
   "id": "c4be4f55",
   "metadata": {},
   "outputs": [
    {
     "name": "stdout",
     "output_type": "stream",
     "text": [
      "number of columns: 12\n",
      "\n",
      "\n",
      "index: 10472\n",
      "\n",
      "\n",
      "['Life Made WI-Fi Touchscreen Photo Frame', '1.9', '19', '3.0M', '1,000+', 'Free', '0', 'Everyone', '', 'February 11, 2018', '1.0.19', '4.0 and up']\n",
      "\n",
      "\n"
     ]
    }
   ],
   "source": [
    "#detect row doesn't have full data\n",
    "#Android\n",
    "error1 = 0\n",
    "count1 = -1\n",
    "for row in android:\n",
    "    count1 += 1\n",
    "    if len(row) != 13:\n",
    "        error1 += 1\n",
    "        print('number of columns:',len(row))\n",
    "        print('\\n')\n",
    "        print('index:', count1)\n",
    "        print('\\n')\n",
    "        print(android[count1])\n",
    "        print('\\n')\n",
    "if error1 ==0:\n",
    "    print('all rows in android have enough columns')\n"
   ]
  },
  {
   "cell_type": "code",
   "execution_count": 8,
   "id": "91c8d5bd",
   "metadata": {},
   "outputs": [
    {
     "name": "stdout",
     "output_type": "stream",
     "text": [
      "all rows in ios have enough columns\n"
     ]
    }
   ],
   "source": [
    "#detect row doesn't have full data\n",
    "#IOS\n",
    "error2 = 0\n",
    "count2 = -1\n",
    "for row in ios:\n",
    "    count2 += 1\n",
    "    if len(row) != 17:\n",
    "        error2 += 1\n",
    "        print('number of columns:',len(row))\n",
    "        print('\\n')\n",
    "        print('index:', count2)\n",
    "        print('\\n')\n",
    "        print(android[count2])\n",
    "        print('\\n')\n",
    "if error2 == 0:\n",
    "    print('all rows in ios have enough columns')\n"
   ]
  },
  {
   "cell_type": "code",
   "execution_count": 9,
   "id": "4113461b",
   "metadata": {},
   "outputs": [],
   "source": [
    "#delete rows that doesn't have enough data\n",
    "del android[10472]"
   ]
  },
  {
   "cell_type": "code",
   "execution_count": 10,
   "id": "3bf028f0",
   "metadata": {},
   "outputs": [
    {
     "name": "stdout",
     "output_type": "stream",
     "text": [
      "all rows have enough columns\n"
     ]
    }
   ],
   "source": [
    "#check again\n",
    "error1 = 0\n",
    "count1 = -1\n",
    "for row in android:\n",
    "    count1 += 1\n",
    "    if len(row) != 13:\n",
    "        error += 1\n",
    "        print('number of columns:',len(row))\n",
    "        print('\\n')\n",
    "        print('index:', count1)\n",
    "        print('\\n')\n",
    "        print(android[count1])\n",
    "        print('\\n')\n",
    "if error1 == 0:\n",
    "    print('all rows have enough columns')"
   ]
  },
  {
   "cell_type": "markdown",
   "id": "31ac07f5",
   "metadata": {},
   "source": [
    "## Removing Duplicate Entries"
   ]
  },
  {
   "cell_type": "code",
   "execution_count": 11,
   "id": "ce4ee35c",
   "metadata": {},
   "outputs": [],
   "source": [
    "#Check for duplicate data\n",
    "def duplicate(data,index):\n",
    "    unique_apps = []\n",
    "    duplicate_apps = []\n",
    "    for row in data:\n",
    "        a = row[index]\n",
    "        if a in unique_apps:\n",
    "            duplicate_apps.append(a)\n",
    "        else:\n",
    "            unique_apps.append(a)\n",
    "    return unique_apps, duplicate_apps\n"
   ]
  },
  {
   "cell_type": "code",
   "execution_count": 12,
   "id": "fa6a5b8b",
   "metadata": {},
   "outputs": [
    {
     "name": "stdout",
     "output_type": "stream",
     "text": [
      "['Quick PDF Scanner + OCR FREE', 'Box', 'Google My Business', 'ZOOM Cloud Meetings', 'join.me - Simple Meetings']\n",
      "\n",
      "\n",
      "[]\n"
     ]
    }
   ],
   "source": [
    "unique_android = duplicate(android,0)[0]\n",
    "duplicate_android = duplicate(android,0)[1]\n",
    "print(duplicate_android[:5])\n",
    "print('\\n')\n",
    "unique_ios = duplicate(ios,0)[0]\n",
    "duplicate_ios = duplicate(ios,0)[1]\n",
    "print(duplicate_ios[:5])"
   ]
  },
  {
   "cell_type": "markdown",
   "id": "3853aa28",
   "metadata": {},
   "source": [
    "We see that ios_data doesn't have duplicate data"
   ]
  },
  {
   "cell_type": "code",
   "execution_count": 13,
   "id": "99c91ccd",
   "metadata": {},
   "outputs": [
    {
     "name": "stdout",
     "output_type": "stream",
     "text": [
      "['Google My Business', 'BUSINESS', '4.4', '70991', 'Varies with device', '5,000,000+', 'Free', '0', 'Everyone', 'Business', 'July 24, 2018', '2.19.0.204537701', '4.4 and up']\n",
      "\n",
      "\n",
      "['Box', 'BUSINESS', '4.2', '159872', 'Varies with device', '10,000,000+', 'Free', '0', 'Everyone', 'Business', 'July 31, 2018', 'Varies with device', 'Varies with device']\n",
      "\n",
      "\n",
      "['Quick PDF Scanner + OCR FREE', 'BUSINESS', '4.2', '80805', 'Varies with device', '5,000,000+', 'Free', '0', 'Everyone', 'Business', 'February 26, 2018', 'Varies with device', '4.0.3 and up']\n",
      "\n",
      "\n",
      "['Quick PDF Scanner + OCR FREE', 'BUSINESS', '4.2', '80805', 'Varies with device', '5,000,000+', 'Free', '0', 'Everyone', 'Business', 'February 26, 2018', 'Varies with device', '4.0.3 and up']\n",
      "\n",
      "\n",
      "['Box', 'BUSINESS', '4.2', '159872', 'Varies with device', '10,000,000+', 'Free', '0', 'Everyone', 'Business', 'July 31, 2018', 'Varies with device', 'Varies with device']\n",
      "\n",
      "\n",
      "['Google My Business', 'BUSINESS', '4.4', '70991', 'Varies with device', '5,000,000+', 'Free', '0', 'Everyone', 'Business', 'July 24, 2018', '2.19.0.204537701', '4.4 and up']\n",
      "\n",
      "\n",
      "['Box', 'BUSINESS', '4.2', '159872', 'Varies with device', '10,000,000+', 'Free', '0', 'Everyone', 'Business', 'July 31, 2018', 'Varies with device', 'Varies with device']\n",
      "\n",
      "\n",
      "['Google My Business', 'BUSINESS', '4.4', '70991', 'Varies with device', '5,000,000+', 'Free', '0', 'Everyone', 'Business', 'July 24, 2018', '2.19.0.204537701', '4.4 and up']\n",
      "\n",
      "\n",
      "['Quick PDF Scanner + OCR FREE', 'BUSINESS', '4.2', '80804', 'Varies with device', '5,000,000+', 'Free', '0', 'Everyone', 'Business', 'February 26, 2018', 'Varies with device', '4.0.3 and up']\n",
      "\n",
      "\n"
     ]
    }
   ],
   "source": [
    "for row in android:\n",
    "    name = row[0]\n",
    "    if name in duplicate_android[:3]:\n",
    "        print(row)\n",
    "        print('\\n')"
   ]
  },
  {
   "cell_type": "markdown",
   "id": "962e3459",
   "metadata": {},
   "source": [
    "I'll keep row that have the most reviews (because the more reiviews the more recent the data is)"
   ]
  },
  {
   "cell_type": "code",
   "execution_count": 14,
   "id": "9dd6feee",
   "metadata": {},
   "outputs": [
    {
     "name": "stdout",
     "output_type": "stream",
     "text": [
      "['Quick PDF Scanner + OCR FREE', 'Box', 'Google My Business', 'ZOOM Cloud Meetings', 'join.me - Simple Meetings', 'Zenefits', 'Google Ads', 'Slack', 'FreshBooks Classic', 'Insightly CRM', 'QuickBooks Accounting: Invoicing & Expenses', 'HipChat - Chat Built for Teams', 'Xero Accounting Software', 'MailChimp - Email, Marketing Automation', 'Crew - Free Messaging and Scheduling', 'Asana: organize team projects', 'Google Analytics', 'AdWords Express', 'Accounting App - Zoho Books', 'Invoice & Time Tracking - Zoho']\n"
     ]
    },
    {
     "data": {
      "text/plain": [
       "798"
      ]
     },
     "execution_count": 14,
     "metadata": {},
     "output_type": "execute_result"
    }
   ],
   "source": [
    "#Find out how many Apps are duplicated\n",
    "unique_duplicate_apps = []\n",
    "for name in duplicate_android:\n",
    "    if name not in unique_duplicate_apps:\n",
    "        unique_duplicate_apps.append(name)\n",
    "print(unique_duplicate_apps[:20])\n",
    "len(unique_duplicate_apps)"
   ]
  },
  {
   "cell_type": "markdown",
   "id": "79add24a",
   "metadata": {},
   "source": [
    "At this step. I'll create a dictionary to lock app's name with max_review of it. And check if it fit my expectation. Lastly, I'll create a new cleaned data which only contains unique app with the most recent review."
   ]
  },
  {
   "cell_type": "code",
   "execution_count": 15,
   "id": "41cbad15",
   "metadata": {},
   "outputs": [
    {
     "name": "stdout",
     "output_type": "stream",
     "text": [
      "length expected is: 9659\n",
      "9659\n"
     ]
    }
   ],
   "source": [
    "highest_review_android = {}\n",
    "for row in android:\n",
    "    name = row[0]\n",
    "    review = float(row[3])\n",
    "    if name in highest_review_android and review > highest_review_android[name]:\n",
    "        highest_review_android[name]= review\n",
    "    elif name not in highest_review_android:\n",
    "        highest_review_android[name]= review\n",
    "expected_data = len(android) - len(duplicate_android)       \n",
    "print('length expected is:', expected_data)\n",
    "print(len(highest_review_android))\n"
   ]
  },
  {
   "cell_type": "code",
   "execution_count": 16,
   "id": "bba32d7f",
   "metadata": {},
   "outputs": [
    {
     "name": "stdout",
     "output_type": "stream",
     "text": [
      "9659\n",
      "9659\n",
      "[['Photo Editor & Candy Camera & Grid & ScrapBook', 'ART_AND_DESIGN', '4.1', '159', '19M', '10,000+', 'Free', '0', 'Everyone', 'Art & Design', 'January 7, 2018', '1.0.0', '4.0.3 and up'], ['U Launcher Lite – FREE Live Cool Themes, Hide Apps', 'ART_AND_DESIGN', '4.7', '87510', '8.7M', '5,000,000+', 'Free', '0', 'Everyone', 'Art & Design', 'August 1, 2018', '1.2.4', '4.0.3 and up'], ['Sketch - Draw & Paint', 'ART_AND_DESIGN', '4.5', '215644', '25M', '50,000,000+', 'Free', '0', 'Teen', 'Art & Design', 'June 8, 2018', 'Varies with device', '4.2 and up'], ['Pixel Draw - Number Art Coloring Book', 'ART_AND_DESIGN', '4.3', '967', '2.8M', '100,000+', 'Free', '0', 'Everyone', 'Art & Design;Creativity', 'June 20, 2018', '1.1', '4.4 and up'], ['Paper flowers instructions', 'ART_AND_DESIGN', '4.4', '167', '5.6M', '50,000+', 'Free', '0', 'Everyone', 'Art & Design', 'March 26, 2017', '1.0', '2.3 and up']]\n"
     ]
    }
   ],
   "source": [
    "cleaned_android = []\n",
    "added_android = [] \n",
    "for row in android:\n",
    "    name = row[0]\n",
    "    review = float(row[3])\n",
    "    if name not in added_android and review == highest_review_android[name]:\n",
    "        added_android.append(name) # Vi duplicate data\n",
    "        cleaned_android.append(row)\n",
    "print(expected_data)\n",
    "print(len(cleaned_android))\n",
    "print(cleaned_android[:5])"
   ]
  },
  {
   "cell_type": "markdown",
   "id": "79741a29",
   "metadata": {},
   "source": [
    "## Isolating the Free Apps\n",
    "As we mentioned in the introduction, we only build apps that are free to download and install, and our main source of revenue consists of in-app ads. Our data sets contain both free and non-free apps, and we'll need to isolate only the free apps for our analysis. Below, we isolate the free apps for both our data sets."
   ]
  },
  {
   "cell_type": "code",
   "execution_count": 17,
   "id": "643570ae",
   "metadata": {},
   "outputs": [],
   "source": [
    "#Create a frequence dictionary function.\n",
    "def freq(data,index):\n",
    "    freq_dic ={}\n",
    "    for row in data:\n",
    "        x = row[index]\n",
    "        if x in freq_dic:\n",
    "            freq_dic[x] += 1\n",
    "        else:\n",
    "            freq_dic[x] = 1\n",
    "    return freq_dic"
   ]
  },
  {
   "cell_type": "code",
   "execution_count": 18,
   "id": "b3630c21",
   "metadata": {},
   "outputs": [],
   "source": [
    "#Create a proportion dictionary function.\n",
    "def prop(data,index):\n",
    "    count_dic = freq(data,index)\n",
    "    proportion_dic ={}\n",
    "    for x in count_dic:\n",
    "        proportion = (count_dic[x]/len(data))*100\n",
    "        proportion_dic[x] = proportion\n",
    "    return proportion_dic"
   ]
  },
  {
   "cell_type": "code",
   "execution_count": 19,
   "id": "727520e7",
   "metadata": {},
   "outputs": [
    {
     "name": "stdout",
     "output_type": "stream",
     "text": [
      "{'0': 8905, '$4.99': 70, '$3.99': 57, '$1.49': 46, '$2.99': 124, '$7.99': 7, '$5.99': 26, '$3.49': 7, '$1.99': 73, '$6.99': 10, '$9.99': 19, '$7.49': 2, '$0.99': 145, '$9.00': 1, '$5.49': 5, '$10.00': 2, '$11.99': 3, '$79.99': 1, '$16.99': 2, '$14.99': 9, '$1.00': 3, '$29.99': 5, '$2.49': 25, '$24.99': 3, '$10.99': 2, '$1.50': 1, '$19.99': 5, '$15.99': 1, '$33.99': 1, '$74.99': 1, '$39.99': 2, '$3.95': 1, '$4.49': 9, '$1.70': 2, '$8.99': 5, '$2.00': 3, '$3.88': 1, '$25.99': 1, '$399.99': 12, '$17.99': 2, '$400.00': 1, '$3.02': 1, '$1.76': 1, '$4.84': 1, '$4.77': 1, '$1.61': 1, '$2.50': 1, '$1.59': 1, '$6.49': 5, '$1.29': 1, '$5.00': 1, '$13.99': 2, '$299.99': 1, '$379.99': 1, '$37.99': 1, '$18.99': 1, '$389.99': 1, '$19.90': 1, '$8.49': 2, '$1.75': 1, '$14.00': 1, '$4.85': 1, '$46.99': 1, '$109.99': 1, '$154.99': 1, '$3.08': 1, '$2.59': 1, '$4.80': 1, '$1.96': 1, '$19.40': 1, '$3.90': 1, '$4.59': 1, '$15.46': 1, '$3.04': 1, '$12.99': 3, '$4.29': 1, '$2.60': 1, '$3.28': 1, '$4.60': 1, '$28.99': 1, '$2.95': 1, '$2.90': 1, '$1.97': 1, '$200.00': 1, '$89.99': 1, '$2.56': 1, '$30.99': 1, '$3.61': 1, '$394.99': 1, '$1.26': 1, '$1.20': 1, '$1.04': 1}\n",
      "\n",
      "\n",
      "{'0': 92.19380888290713, '$4.99': 0.7247127031783829, '$3.99': 0.5901232011595403, '$1.49': 0.4762397763743658, '$2.99': 1.283776788487421, '$7.99': 0.07247127031783829, '$5.99': 0.2691790040376851, '$3.49': 0.07247127031783829, '$1.99': 0.7557718190288849, '$6.99': 0.10353038616834041, '$9.99': 0.19670773371984676, '$7.49': 0.02070607723366808, '$0.99': 1.501190599440936, '$9.00': 0.01035303861683404, '$5.49': 0.05176519308417021, '$10.00': 0.02070607723366808, '$11.99': 0.031059115850502122, '$79.99': 0.01035303861683404, '$16.99': 0.02070607723366808, '$14.99': 0.09317734755150636, '$1.00': 0.031059115850502122, '$29.99': 0.05176519308417021, '$2.49': 0.258825965420851, '$24.99': 0.031059115850502122, '$10.99': 0.02070607723366808, '$1.50': 0.01035303861683404, '$19.99': 0.05176519308417021, '$15.99': 0.01035303861683404, '$33.99': 0.01035303861683404, '$74.99': 0.01035303861683404, '$39.99': 0.02070607723366808, '$3.95': 0.01035303861683404, '$4.49': 0.09317734755150636, '$1.70': 0.02070607723366808, '$8.99': 0.05176519308417021, '$2.00': 0.031059115850502122, '$3.88': 0.01035303861683404, '$25.99': 0.01035303861683404, '$399.99': 0.12423646340200849, '$17.99': 0.02070607723366808, '$400.00': 0.01035303861683404, '$3.02': 0.01035303861683404, '$1.76': 0.01035303861683404, '$4.84': 0.01035303861683404, '$4.77': 0.01035303861683404, '$1.61': 0.01035303861683404, '$2.50': 0.01035303861683404, '$1.59': 0.01035303861683404, '$6.49': 0.05176519308417021, '$1.29': 0.01035303861683404, '$5.00': 0.01035303861683404, '$13.99': 0.02070607723366808, '$299.99': 0.01035303861683404, '$379.99': 0.01035303861683404, '$37.99': 0.01035303861683404, '$18.99': 0.01035303861683404, '$389.99': 0.01035303861683404, '$19.90': 0.01035303861683404, '$8.49': 0.02070607723366808, '$1.75': 0.01035303861683404, '$14.00': 0.01035303861683404, '$4.85': 0.01035303861683404, '$46.99': 0.01035303861683404, '$109.99': 0.01035303861683404, '$154.99': 0.01035303861683404, '$3.08': 0.01035303861683404, '$2.59': 0.01035303861683404, '$4.80': 0.01035303861683404, '$1.96': 0.01035303861683404, '$19.40': 0.01035303861683404, '$3.90': 0.01035303861683404, '$4.59': 0.01035303861683404, '$15.46': 0.01035303861683404, '$3.04': 0.01035303861683404, '$12.99': 0.031059115850502122, '$4.29': 0.01035303861683404, '$2.60': 0.01035303861683404, '$3.28': 0.01035303861683404, '$4.60': 0.01035303861683404, '$28.99': 0.01035303861683404, '$2.95': 0.01035303861683404, '$2.90': 0.01035303861683404, '$1.97': 0.01035303861683404, '$200.00': 0.01035303861683404, '$89.99': 0.01035303861683404, '$2.56': 0.01035303861683404, '$30.99': 0.01035303861683404, '$3.61': 0.01035303861683404, '$394.99': 0.01035303861683404, '$1.26': 0.01035303861683404, '$1.20': 0.01035303861683404, '$1.04': 0.01035303861683404}\n",
      "{'3.99': 277, '0': 4056, '0.99': 728, '9.99': 81, '4.99': 394, '7.99': 33, '2.99': 683, '1.99': 621, '5.99': 52, '12.99': 5, '21.99': 1, '249.99': 1, '6.99': 166, '74.99': 1, '19.99': 13, '8.99': 9, '24.99': 8, '13.99': 6, '14.99': 21, '16.99': 2, '47.99': 1, '11.99': 6, '59.99': 3, '15.99': 4, '27.99': 2, '17.99': 3, '299.99': 1, '49.99': 2, '23.99': 2, '20.99': 2, '39.99': 2, '99.99': 1, '29.99': 6, '34.99': 1, '18.99': 1, '22.99': 2}\n",
      "\n",
      "\n",
      "{'3.99': 3.8488258996804228, '0': 56.35681533972489, '0.99': 10.11532583020703, '9.99': 1.1254689453939142, '4.99': 5.4745032652494094, '7.99': 0.45852438516048355, '2.99': 9.490065304988189, '1.99': 8.628595248020009, '5.99': 0.7225232735862165, '12.99': 0.06947339169098235, '21.99': 0.013894678338196471, '249.99': 0.013894678338196471, '6.99': 2.306516604140614, '74.99': 0.013894678338196471, '19.99': 0.18063081839655412, '8.99': 0.12505210504376824, '24.99': 0.11115742670557177, '13.99': 0.08336807002917883, '14.99': 0.29178824510212586, '16.99': 0.027789356676392943, '47.99': 0.013894678338196471, '11.99': 0.08336807002917883, '59.99': 0.041684035014589414, '15.99': 0.055578713352785886, '27.99': 0.027789356676392943, '17.99': 0.041684035014589414, '299.99': 0.013894678338196471, '49.99': 0.027789356676392943, '23.99': 0.027789356676392943, '20.99': 0.027789356676392943, '39.99': 0.027789356676392943, '99.99': 0.013894678338196471, '29.99': 0.08336807002917883, '34.99': 0.013894678338196471, '18.99': 0.013894678338196471, '22.99': 0.027789356676392943}\n"
     ]
    }
   ],
   "source": [
    "freq_price_android = freq(cleaned_android,7)\n",
    "prop_price_android = prop(cleaned_android,7)\n",
    "print(freq_price_android)\n",
    "print('\\n')\n",
    "print(prop_price_android)\n",
    "freq_price_ios = freq(ios,5)\n",
    "prop_price_ios = prop(ios,5)\n",
    "print(freq_price_ios)\n",
    "print('\\n')\n",
    "print(prop_price_ios)"
   ]
  },
  {
   "cell_type": "markdown",
   "id": "ee33758d",
   "metadata": {},
   "source": [
    "## Delete Unneeded letter\n",
    "Because Price include $\n",
    "\n",
    "so we can not change it to type. Let's fix that by delete the $ letter."
   ]
  },
  {
   "cell_type": "code",
   "execution_count": 20,
   "id": "2e479b2c",
   "metadata": {},
   "outputs": [],
   "source": [
    "for row in cleaned_android:\n",
    "    price = row[7]\n",
    "    price = price.replace('$','')\n",
    "    row[7] = price"
   ]
  },
  {
   "cell_type": "code",
   "execution_count": 21,
   "id": "fc6503fa",
   "metadata": {},
   "outputs": [],
   "source": [
    "#Remove app that aren't free\n",
    "def free_app(data,index):\n",
    "    free_apps = []\n",
    "    for row in data:\n",
    "        price = float(row[index])\n",
    "        if price == 0:\n",
    "            free_apps.append(row)\n",
    "    return free_apps\n"
   ]
  },
  {
   "cell_type": "code",
   "execution_count": 22,
   "id": "fc80e5fa",
   "metadata": {},
   "outputs": [
    {
     "name": "stdout",
     "output_type": "stream",
     "text": [
      "['Photo Editor & Candy Camera & Grid & ScrapBook', 'ART_AND_DESIGN', '4.1', '159', '19M', '10,000+', 'Free', '0', 'Everyone', 'Art & Design', 'January 7, 2018', '1.0.0', '4.0.3 and up']\n",
      "\n",
      "\n",
      "['U Launcher Lite – FREE Live Cool Themes, Hide Apps', 'ART_AND_DESIGN', '4.7', '87510', '8.7M', '5,000,000+', 'Free', '0', 'Everyone', 'Art & Design', 'August 1, 2018', '1.2.4', '4.0.3 and up']\n",
      "\n",
      "\n",
      "['Sketch - Draw & Paint', 'ART_AND_DESIGN', '4.5', '215644', '25M', '50,000,000+', 'Free', '0', 'Teen', 'Art & Design', 'June 8, 2018', 'Varies with device', '4.2 and up']\n",
      "\n",
      "\n",
      "8905\n",
      "\n",
      "\n",
      "['2', '281796108', 'Evernote - stay organized', '158578688', 'USD', '0', '161065', '26', '4', '3.5', '8.2.2', '4+', 'Productivity', '37', '5', '23', '1']\n",
      "\n",
      "\n",
      "['3', '281940292', 'WeatherBug - Local Weather, Radar, Maps, Alerts', '100524032', 'USD', '0', '188583', '2822', '3.5', '4.5', '5.0.0', '4+', 'Weather', '37', '5', '3', '1']\n",
      "\n",
      "\n",
      "['4', '282614216', 'eBay: Best App to Buy, Sell, Save! Online Shopping', '128512000', 'USD', '0', '262241', '649', '4', '4.5', '5.10.0', '12+', 'Shopping', '37', '5', '9', '1']\n",
      "\n",
      "\n",
      "\n",
      "\n",
      "4056\n"
     ]
    }
   ],
   "source": [
    "cleaned_free_android = free_app(cleaned_android,7)\n",
    "explore_data(cleaned_free_android)\n",
    "print(len(cleaned_free_android))\n",
    "print('\\n')\n",
    "free_ios = free_app(ios,5)\n",
    "explore_data(free_ios)\n",
    "print('\\n')\n",
    "print(len(free_ios))"
   ]
  },
  {
   "cell_type": "markdown",
   "id": "46afc012",
   "metadata": {},
   "source": [
    "## Removing Non-English Apps\n",
    "Next step, We'll removing not English App. Remember we use English for the apps we develop at our company, and we'd like to analyze only the apps that are designed for an English-speaking audience. The numbers corresponding to the characters we commonly use in an English text are all in the range 0 to 127, according to the ASCII (American Standard Code for Information Interchange) system. Based on this number range, we can build a function that detects whether a character belongs to the set of common English characters or not. If the number is equal to or less than 127, then the character belongs to the set of common English characters.\n",
    "\n",
    "If an app name contains a character that is greater than 127, then it probably means that the app has a non-English name.To minimize the impact of data loss, we'll only remove an app if its name has more than three non-ASCII characters"
   ]
  },
  {
   "cell_type": "code",
   "execution_count": 23,
   "id": "d008b784",
   "metadata": {},
   "outputs": [],
   "source": [
    "def is_english(string):\n",
    "    non_english_char = 0\n",
    "    for char in string:\n",
    "        if ord(char) >= 127:\n",
    "            non_english_char += 1\n",
    "    if non_english_char <= 3:\n",
    "        return True\n",
    "    else:\n",
    "        return False\n",
    "    "
   ]
  },
  {
   "cell_type": "code",
   "execution_count": 24,
   "id": "e22b1178",
   "metadata": {},
   "outputs": [
    {
     "name": "stdout",
     "output_type": "stream",
     "text": [
      "True\n",
      "False\n"
     ]
    }
   ],
   "source": [
    "#check\n",
    "print(is_english('toilathangkhung'))\n",
    "print(is_english('åååååå´œœ´œ'))"
   ]
  },
  {
   "cell_type": "code",
   "execution_count": 25,
   "id": "a2bc2a11",
   "metadata": {},
   "outputs": [
    {
     "name": "stdout",
     "output_type": "stream",
     "text": [
      "['Photo Editor & Candy Camera & Grid & ScrapBook', 'ART_AND_DESIGN', '4.1', '159', '19M', '10,000+', 'Free', '0', 'Everyone', 'Art & Design', 'January 7, 2018', '1.0.0', '4.0.3 and up']\n",
      "\n",
      "\n",
      "['U Launcher Lite – FREE Live Cool Themes, Hide Apps', 'ART_AND_DESIGN', '4.7', '87510', '8.7M', '5,000,000+', 'Free', '0', 'Everyone', 'Art & Design', 'August 1, 2018', '1.2.4', '4.0.3 and up']\n",
      "\n",
      "\n",
      "['Sketch - Draw & Paint', 'ART_AND_DESIGN', '4.5', '215644', '25M', '50,000,000+', 'Free', '0', 'Teen', 'Art & Design', 'June 8, 2018', 'Varies with device', '4.2 and up']\n",
      "\n",
      "\n",
      "number of row: 8864\n",
      "number of column: 13\n",
      "\n",
      "\n",
      "['2', '281796108', 'Evernote - stay organized', '158578688', 'USD', '0', '161065', '26', '4', '3.5', '8.2.2', '4+', 'Productivity', '37', '5', '23', '1']\n",
      "\n",
      "\n",
      "['3', '281940292', 'WeatherBug - Local Weather, Radar, Maps, Alerts', '100524032', 'USD', '0', '188583', '2822', '3.5', '4.5', '5.0.0', '4+', 'Weather', '37', '5', '3', '1']\n",
      "\n",
      "\n",
      "['4', '282614216', 'eBay: Best App to Buy, Sell, Save! Online Shopping', '128512000', 'USD', '0', '262241', '649', '4', '4.5', '5.10.0', '12+', 'Shopping', '37', '5', '9', '1']\n",
      "\n",
      "\n",
      "number of row: 3222\n",
      "number of column: 17\n"
     ]
    }
   ],
   "source": [
    "english_android = []\n",
    "for row in cleaned_free_android:\n",
    "    name = row[0]\n",
    "    if is_english(name):\n",
    "        english_android.append(row)\n",
    "explore_data(english_android,0,3,True)\n",
    "english_ios =[]\n",
    "print('\\n')\n",
    "for row in free_ios:\n",
    "    name = row[2]\n",
    "    if is_english(name):\n",
    "        english_ios.append(row)\n",
    "explore_data(english_ios,0,3,True)"
   ]
  },
  {
   "cell_type": "markdown",
   "id": "3215f6bb",
   "metadata": {},
   "source": [
    "## PART 2 - Analyze\n",
    "After cleaning the data, we got 8864 apps in google play and 3222 apps in appstore ready to be analyzed.\n",
    "\n",
    "As we mentioned in the introduction, our aim is to determine the kinds of apps that are likely to attract more users because our revenue is highly influenced by the number of people using our apps.\n",
    "\n",
    "To minimize risks and overhead, our validation strategy for an app idea is comprised of three steps:\n",
    "\n",
    "- Build a minimal Android version of the app, and add it to Google Play.\n",
    "- If the app has a good response from users, we then develop it further.\n",
    "- If the app is profitable after six months, we also build an iOS version of the app and add it to the App Store.\n",
    "\n",
    "Because our end goal is to add the app on both the App Store and Google Play, we need to find app profiles that are successful on both markets. For instance, a profile that might work well for both markets might be a productivity app that makes use of gamification.\n",
    "\n",
    "Let's begin the analysis by getting a sense of the most common genres for each market. For this, we'll build a frequency table for the prime_genre column of the App Store data set, and the Genres and Category columns of the Google Play data set."
   ]
  },
  {
   "cell_type": "markdown",
   "id": "9ec873a2",
   "metadata": {},
   "source": [
    "We'll build two functions we can use to analyze the frequency tables:\n",
    "\n",
    "- One function to generate frequency tables that show percentages\n",
    "- Another function that we can use to display the percentages in a descending order"
   ]
  },
  {
   "cell_type": "code",
   "execution_count": 26,
   "id": "8fa449d3",
   "metadata": {},
   "outputs": [],
   "source": [
    "final_android = english_android\n",
    "final_ios = english_ios"
   ]
  },
  {
   "cell_type": "markdown",
   "id": "2153ba83",
   "metadata": {},
   "source": [
    "## Analyze The Frequency Tables"
   ]
  },
  {
   "cell_type": "code",
   "execution_count": 27,
   "id": "7b4ae3bd",
   "metadata": {},
   "outputs": [],
   "source": [
    "#We've already create a function to display the percentages prop(data, index)\n",
    "#Now let's create a function that we can use to display the percentage in a descending order\n",
    "def display_table(data,index):\n",
    "    table = prop(data,index)\n",
    "    display_table = []\n",
    "    for key in table:\n",
    "        add =(table[key],key)\n",
    "        display_table.append(add)\n",
    "    display_table = sorted(display_table,reverse = True)\n",
    "    for app in display_table:\n",
    "        print(app[1],': ',app[0])\n",
    "    "
   ]
  },
  {
   "cell_type": "markdown",
   "id": "b9ab9019",
   "metadata": {},
   "source": [
    "## Most Common Apps by Genre"
   ]
  },
  {
   "cell_type": "markdown",
   "id": "d58dabf9",
   "metadata": {},
   "source": [
    "We start by examining the frequency table for the prime_genre column of the App Store data set."
   ]
  },
  {
   "cell_type": "code",
   "execution_count": 28,
   "id": "f2e13f77",
   "metadata": {},
   "outputs": [
    {
     "name": "stdout",
     "output_type": "stream",
     "text": [
      "Games :  58.16263190564867\n",
      "Entertainment :  7.883302296710118\n",
      "Photo & Video :  4.9658597144630665\n",
      "Education :  3.662321539416512\n",
      "Social Networking :  3.2898820608317814\n",
      "Shopping :  2.60707635009311\n",
      "Utilities :  2.5139664804469275\n",
      "Sports :  2.1415270018621975\n",
      "Music :  2.0484171322160147\n",
      "Health & Fitness :  2.0173805090006205\n",
      "Productivity :  1.7380509000620732\n",
      "Lifestyle :  1.5828677839851024\n",
      "News :  1.3345747982619491\n",
      "Travel :  1.2414649286157666\n",
      "Finance :  1.1173184357541899\n",
      "Weather :  0.8690254500310366\n",
      "Food & Drink :  0.8069522036002483\n",
      "Reference :  0.5586592178770949\n",
      "Business :  0.5276225946617008\n",
      "Book :  0.4345127250155183\n",
      "Navigation :  0.186219739292365\n",
      "Medical :  0.186219739292365\n",
      "Catalogs :  0.12414649286157665\n"
     ]
    }
   ],
   "source": [
    "#IOS proportion prime_genre\n",
    "display_table(final_ios,-5)"
   ]
  },
  {
   "cell_type": "markdown",
   "id": "43235ed6",
   "metadata": {},
   "source": [
    "We can see that among the free English apps, more than a half (58.16%) are games. Entertainment apps are close to 8%, followed by photo and video apps, which are close to 5%. Only 3.66% of the apps are designed for education, followed by social networking apps which amount for 3.29% of the apps in our data set.\n",
    "\n",
    "The general impression is that App Store (at least the part containing free English apps) is dominated by apps that are designed for fun (games, entertainment, photo and video, social networking, sports, music, etc.), while apps with practical purposes (education, shopping, utilities, productivity, lifestyle, etc.) are more rare. However, the fact that fun apps are the most numerous doesn't also imply that they also have the greatest number of users — the demand might not be the same as the offer.\n",
    "\n",
    "Let's continue by examining the Genres and Category columns of the Google Play data set (two columns which seem to be related).\n"
   ]
  },
  {
   "cell_type": "code",
   "execution_count": 29,
   "id": "8fb44fba",
   "metadata": {},
   "outputs": [
    {
     "name": "stdout",
     "output_type": "stream",
     "text": [
      "FAMILY :  18.907942238267147\n",
      "GAME :  9.724729241877256\n",
      "TOOLS :  8.461191335740072\n",
      "BUSINESS :  4.591606498194946\n",
      "LIFESTYLE :  3.9034296028880866\n",
      "PRODUCTIVITY :  3.892148014440433\n",
      "FINANCE :  3.7003610108303246\n",
      "MEDICAL :  3.531137184115524\n",
      "SPORTS :  3.395758122743682\n",
      "PERSONALIZATION :  3.3167870036101084\n",
      "COMMUNICATION :  3.2378158844765346\n",
      "HEALTH_AND_FITNESS :  3.0798736462093865\n",
      "PHOTOGRAPHY :  2.944494584837545\n",
      "NEWS_AND_MAGAZINES :  2.7978339350180503\n",
      "SOCIAL :  2.6624548736462095\n",
      "TRAVEL_AND_LOCAL :  2.33528880866426\n",
      "SHOPPING :  2.2450361010830324\n",
      "BOOKS_AND_REFERENCE :  2.1435018050541514\n",
      "DATING :  1.861462093862816\n",
      "VIDEO_PLAYERS :  1.7937725631768955\n",
      "MAPS_AND_NAVIGATION :  1.3989169675090252\n",
      "FOOD_AND_DRINK :  1.2409747292418771\n",
      "EDUCATION :  1.1620036101083033\n",
      "ENTERTAINMENT :  0.9589350180505415\n",
      "LIBRARIES_AND_DEMO :  0.9363718411552346\n",
      "AUTO_AND_VEHICLES :  0.9250902527075812\n",
      "HOUSE_AND_HOME :  0.8235559566787004\n",
      "WEATHER :  0.8009927797833934\n",
      "EVENTS :  0.7107400722021661\n",
      "PARENTING :  0.6543321299638989\n",
      "ART_AND_DESIGN :  0.6430505415162455\n",
      "COMICS :  0.6204873646209386\n",
      "BEAUTY :  0.5979241877256317\n"
     ]
    }
   ],
   "source": [
    "#Android - Categories proportion\n",
    "display_table(final_android,1)"
   ]
  },
  {
   "cell_type": "markdown",
   "id": "4ebc48f7",
   "metadata": {},
   "source": [
    "The landscape seems significantly different on Google Play: there are not that many apps designed for fun, and it seems that a good number of apps are designed for practical purposes (family, tools, business, lifestyle, productivity, etc.). However, if we investigate this further, we can see that the family category (which accounts for almost 19% of the apps) means mostly games for kids.\n"
   ]
  },
  {
   "cell_type": "markdown",
   "id": "9b41f713",
   "metadata": {},
   "source": [
    "![Image](file:///Users/number1/Desktop/Screenshot%202024-02-17%20at%2014.30.09.png)"
   ]
  },
  {
   "cell_type": "markdown",
   "id": "5e4f227d",
   "metadata": {},
   "source": [
    "Even so, practical apps seem to have a better representation on Google Play compared to App Store. This picture is also confirmed by the frequency table we see for the Genres column:\n"
   ]
  },
  {
   "cell_type": "code",
   "execution_count": 30,
   "id": "fd7fa5f8",
   "metadata": {
    "scrolled": true
   },
   "outputs": [
    {
     "name": "stdout",
     "output_type": "stream",
     "text": [
      "Tools :  8.449909747292418\n",
      "Entertainment :  6.069494584837545\n",
      "Education :  5.347472924187725\n",
      "Business :  4.591606498194946\n",
      "Productivity :  3.892148014440433\n",
      "Lifestyle :  3.892148014440433\n",
      "Finance :  3.7003610108303246\n",
      "Medical :  3.531137184115524\n",
      "Sports :  3.463447653429603\n",
      "Personalization :  3.3167870036101084\n",
      "Communication :  3.2378158844765346\n",
      "Action :  3.1024368231046933\n",
      "Health & Fitness :  3.0798736462093865\n",
      "Photography :  2.944494584837545\n",
      "News & Magazines :  2.7978339350180503\n",
      "Social :  2.6624548736462095\n",
      "Travel & Local :  2.3240072202166067\n",
      "Shopping :  2.2450361010830324\n",
      "Books & Reference :  2.1435018050541514\n",
      "Simulation :  2.0419675090252705\n",
      "Dating :  1.861462093862816\n",
      "Arcade :  1.8501805054151623\n",
      "Video Players & Editors :  1.7712093862815883\n",
      "Casual :  1.7599277978339352\n",
      "Maps & Navigation :  1.3989169675090252\n",
      "Food & Drink :  1.2409747292418771\n",
      "Puzzle :  1.128158844765343\n",
      "Racing :  0.9927797833935018\n",
      "Role Playing :  0.9363718411552346\n",
      "Libraries & Demo :  0.9363718411552346\n",
      "Auto & Vehicles :  0.9250902527075812\n",
      "Strategy :  0.9138086642599278\n",
      "House & Home :  0.8235559566787004\n",
      "Weather :  0.8009927797833934\n",
      "Events :  0.7107400722021661\n",
      "Adventure :  0.6768953068592057\n",
      "Comics :  0.6092057761732852\n",
      "Beauty :  0.5979241877256317\n",
      "Art & Design :  0.5979241877256317\n",
      "Parenting :  0.4963898916967509\n",
      "Card :  0.45126353790613716\n",
      "Casino :  0.42870036101083037\n",
      "Trivia :  0.41741877256317694\n",
      "Educational;Education :  0.39485559566787\n",
      "Board :  0.3835740072202166\n",
      "Educational :  0.3722924187725632\n",
      "Education;Education :  0.33844765342960287\n",
      "Word :  0.2594765342960289\n",
      "Casual;Pretend Play :  0.236913357400722\n",
      "Music :  0.2030685920577617\n",
      "Racing;Action & Adventure :  0.16922382671480143\n",
      "Puzzle;Brain Games :  0.16922382671480143\n",
      "Entertainment;Music & Video :  0.16922382671480143\n",
      "Casual;Brain Games :  0.13537906137184114\n",
      "Casual;Action & Adventure :  0.13537906137184114\n",
      "Arcade;Action & Adventure :  0.12409747292418773\n",
      "Action;Action & Adventure :  0.10153429602888085\n",
      "Educational;Pretend Play :  0.09025270758122744\n",
      "Simulation;Action & Adventure :  0.078971119133574\n",
      "Parenting;Education :  0.078971119133574\n",
      "Entertainment;Brain Games :  0.078971119133574\n",
      "Board;Brain Games :  0.078971119133574\n",
      "Parenting;Music & Video :  0.06768953068592057\n",
      "Educational;Brain Games :  0.06768953068592057\n",
      "Casual;Creativity :  0.06768953068592057\n",
      "Art & Design;Creativity :  0.06768953068592057\n",
      "Education;Pretend Play :  0.056407942238267145\n",
      "Role Playing;Pretend Play :  0.04512635379061372\n",
      "Education;Creativity :  0.04512635379061372\n",
      "Role Playing;Action & Adventure :  0.033844765342960284\n",
      "Puzzle;Action & Adventure :  0.033844765342960284\n",
      "Entertainment;Creativity :  0.033844765342960284\n",
      "Entertainment;Action & Adventure :  0.033844765342960284\n",
      "Educational;Creativity :  0.033844765342960284\n",
      "Educational;Action & Adventure :  0.033844765342960284\n",
      "Education;Music & Video :  0.033844765342960284\n",
      "Education;Brain Games :  0.033844765342960284\n",
      "Education;Action & Adventure :  0.033844765342960284\n",
      "Adventure;Action & Adventure :  0.033844765342960284\n",
      "Video Players & Editors;Music & Video :  0.02256317689530686\n",
      "Sports;Action & Adventure :  0.02256317689530686\n",
      "Simulation;Pretend Play :  0.02256317689530686\n",
      "Puzzle;Creativity :  0.02256317689530686\n",
      "Music;Music & Video :  0.02256317689530686\n",
      "Entertainment;Pretend Play :  0.02256317689530686\n",
      "Casual;Education :  0.02256317689530686\n",
      "Board;Action & Adventure :  0.02256317689530686\n",
      "Video Players & Editors;Creativity :  0.01128158844765343\n",
      "Trivia;Education :  0.01128158844765343\n",
      "Travel & Local;Action & Adventure :  0.01128158844765343\n",
      "Tools;Education :  0.01128158844765343\n",
      "Strategy;Education :  0.01128158844765343\n",
      "Strategy;Creativity :  0.01128158844765343\n",
      "Strategy;Action & Adventure :  0.01128158844765343\n",
      "Simulation;Education :  0.01128158844765343\n",
      "Role Playing;Brain Games :  0.01128158844765343\n",
      "Racing;Pretend Play :  0.01128158844765343\n",
      "Puzzle;Education :  0.01128158844765343\n",
      "Parenting;Brain Games :  0.01128158844765343\n",
      "Music & Audio;Music & Video :  0.01128158844765343\n",
      "Lifestyle;Pretend Play :  0.01128158844765343\n",
      "Lifestyle;Education :  0.01128158844765343\n",
      "Health & Fitness;Education :  0.01128158844765343\n",
      "Health & Fitness;Action & Adventure :  0.01128158844765343\n",
      "Entertainment;Education :  0.01128158844765343\n",
      "Communication;Creativity :  0.01128158844765343\n",
      "Comics;Creativity :  0.01128158844765343\n",
      "Casual;Music & Video :  0.01128158844765343\n",
      "Card;Action & Adventure :  0.01128158844765343\n",
      "Books & Reference;Education :  0.01128158844765343\n",
      "Art & Design;Pretend Play :  0.01128158844765343\n",
      "Art & Design;Action & Adventure :  0.01128158844765343\n",
      "Arcade;Pretend Play :  0.01128158844765343\n",
      "Adventure;Education :  0.01128158844765343\n"
     ]
    }
   ],
   "source": [
    "#Android - Genre proportion\n",
    "display_table(final_android,-4)"
   ]
  },
  {
   "cell_type": "markdown",
   "id": "7546cc1a",
   "metadata": {},
   "source": [
    "The difference between the Genres and the Category columns is not crystal clear, but one thing we can notice is that the Genres column is much more granular (it has more categories). We're only looking for the bigger picture at the moment, so we'll only work with the Category column moving forward.\n",
    "\n",
    "Up to this point, we found that the App Store is dominated by apps designed for fun, while Google Play shows a more balanced landscape of both practical and for-fun apps. Now we'd like to get an idea about the kind of apps that have most users."
   ]
  },
  {
   "cell_type": "markdown",
   "id": "f4a382c3",
   "metadata": {},
   "source": [
    "## Most Popular Apps by Genre on the App Store\n",
    "\n",
    "One way to find out what genres are the most popular (have the most users) is to calculate the average number of installs and rating for each app genre. For the Google Play data set, we can find this information in the Installs column, but unfortunately for the App Store data set this information is missing. As a workaround, we'll take the total number of user ratings as a proxy, which we can find in the rating_count_tot app.\n",
    "\n",
    "Below, we create a function to calculate the average number of user ratings per app genre on the App Store:"
   ]
  },
  {
   "cell_type": "code",
   "execution_count": 31,
   "id": "dc767567",
   "metadata": {},
   "outputs": [],
   "source": [
    "#Create function for average:\n",
    "def avg(data,index1,index2):\n",
    "    table = freq(data,index1)\n",
    "    display_table = []\n",
    "    for a in table:\n",
    "        count = 0\n",
    "        total = 0\n",
    "        for b in data:\n",
    "            value = float(b[index2])\n",
    "            name = b[index1]\n",
    "            if name == a:\n",
    "                count += 1\n",
    "                total += value\n",
    "        avg = total/ count\n",
    "        add = (avg,a)\n",
    "        display_table.append(add)\n",
    "    display_table = sorted(display_table,reverse = True)\n",
    "    for genre in display_table:\n",
    "        print(genre[1],': ',genre[0])    "
   ]
  },
  {
   "cell_type": "code",
   "execution_count": 32,
   "id": "f64d90de",
   "metadata": {
    "scrolled": true
   },
   "outputs": [
    {
     "name": "stdout",
     "output_type": "stream",
     "text": [
      "Navigation :  86090.33333333333\n",
      "Reference :  74942.11111111111\n",
      "Social Networking :  71548.34905660378\n",
      "Music :  57326.530303030304\n",
      "Weather :  52279.892857142855\n",
      "Book :  39758.5\n",
      "Food & Drink :  33333.92307692308\n",
      "Finance :  31467.944444444445\n",
      "Photo & Video :  28441.54375\n",
      "Travel :  28243.8\n",
      "Shopping :  26919.690476190477\n",
      "Health & Fitness :  23298.015384615384\n",
      "Sports :  23008.898550724636\n",
      "Games :  22788.6696905016\n",
      "News :  21248.023255813954\n",
      "Productivity :  21028.410714285714\n",
      "Utilities :  18684.456790123455\n",
      "Lifestyle :  16485.764705882353\n",
      "Entertainment :  14029.830708661417\n",
      "Business :  7491.117647058823\n",
      "Education :  7003.983050847458\n",
      "Catalogs :  4004.0\n",
      "Medical :  612.0\n"
     ]
    }
   ],
   "source": [
    "#Average count_rating_tot per Genre for IOS\n",
    "avg(final_ios,-5,6) "
   ]
  },
  {
   "cell_type": "markdown",
   "id": "49ce8124",
   "metadata": {},
   "source": [
    "On count_rating_tot average,the top 4 are: Navigation, Reference, Social Networking and Music but when we look it closely, this figure is heavily influenced by Waze and Google Maps, which have close to half a million user reviews together:"
   ]
  },
  {
   "cell_type": "code",
   "execution_count": 33,
   "id": "68fd8e2f",
   "metadata": {},
   "outputs": [],
   "source": [
    "#Create funcing to check information in desc order\n",
    "def check(data,name,index1 =-5,index2 =6,index3 =2,start =0,end =20):\n",
    "    display_table = []\n",
    "    for row in data:\n",
    "        value1 = row[index1]\n",
    "        value2 = float(row[index2])\n",
    "        value3 = row[index3]\n",
    "        if value1 == name:\n",
    "            add =(value2,value3)\n",
    "            display_table.append(add)\n",
    "    display_table = sorted(display_table,reverse = True)\n",
    "    for app in display_table[start:end]:\n",
    "        print(app[1],': ',app[0])"
   ]
  },
  {
   "cell_type": "code",
   "execution_count": 34,
   "id": "bedcdc9f",
   "metadata": {},
   "outputs": [
    {
     "name": "stdout",
     "output_type": "stream",
     "text": [
      "Waze - GPS Navigation, Maps & Real-time Traffic :  345046.0\n",
      "Google Maps - Navigation & Transit :  154911.0\n",
      "Geocaching® :  12811.0\n",
      "CoPilot GPS – Car Navigation & Offline Maps :  3582.0\n",
      "ImmobilienScout24: Real Estate Search in Germany :  187.0\n",
      "Railway Route Search :  5.0\n"
     ]
    }
   ],
   "source": [
    "#check for Navigation\n",
    "check(final_ios,'Navigation')"
   ]
  },
  {
   "cell_type": "markdown",
   "id": "a5e8f595",
   "metadata": {},
   "source": [
    "Reference apps have 74,942 user ratings on average, but it's actually the Bible and Dictionary.com which skew up the average rating:"
   ]
  },
  {
   "cell_type": "code",
   "execution_count": 35,
   "id": "026f2a28",
   "metadata": {},
   "outputs": [
    {
     "name": "stdout",
     "output_type": "stream",
     "text": [
      "Bible :  985920.0\n",
      "Dictionary.com Dictionary & Thesaurus :  200047.0\n",
      "Dictionary.com Dictionary & Thesaurus for iPad :  54175.0\n",
      "Google Translate :  26786.0\n",
      "Muslim Pro: Ramadan 2017 Prayer Times, Azan, Quran :  18418.0\n",
      "New Furniture Mods - Pocket Wiki & Game Tools for Minecraft PC Edition :  17588.0\n",
      "Merriam-Webster Dictionary :  16849.0\n",
      "Night Sky :  12122.0\n",
      "City Maps for Minecraft PE - The Best Maps for Minecraft Pocket Edition (MCPE) :  8535.0\n",
      "LUCKY BLOCK MOD ™ for Minecraft PC Edition - The Best Pocket Wiki & Mods Installer Tools :  4693.0\n",
      "GUNS MODS for Minecraft PC Edition - Mods Tools :  1497.0\n",
      "Guides for Pokémon GO - Pokemon GO News and Cheats :  826.0\n",
      "WWDC :  762.0\n",
      "Horror Maps for Minecraft PE - Download The Scariest Maps for Minecraft Pocket Edition (MCPE) Free :  718.0\n",
      "VPN Express :  14.0\n",
      "Real Bike Traffic Rider Virtual Reality Glasses :  8.0\n",
      "教えて!goo :  0.0\n",
      "Jishokun-Japanese English Dictionary & Translator :  0.0\n"
     ]
    }
   ],
   "source": [
    "#check for Reference\n",
    "check(final_ios,'Reference')"
   ]
  },
  {
   "cell_type": "markdown",
   "id": "bb82620f",
   "metadata": {},
   "source": [
    "The same pattern applies to social networking apps, where the average number is heavily influenced by a few giants like Facebook, Pinterest, Skype, etc."
   ]
  },
  {
   "cell_type": "code",
   "execution_count": 36,
   "id": "d9e32b8d",
   "metadata": {},
   "outputs": [
    {
     "name": "stdout",
     "output_type": "stream",
     "text": [
      "Facebook :  2974676.0\n",
      "Pinterest :  1061624.0\n",
      "Skype for iPhone :  373519.0\n",
      "Messenger :  351466.0\n",
      "Tumblr :  334293.0\n",
      "WhatsApp Messenger :  287589.0\n",
      "Kik :  260965.0\n",
      "ooVoo – Free Video Call, Text and Voice :  177501.0\n",
      "TextNow - Unlimited Text + Calls :  164963.0\n",
      "Viber Messenger – Text & Call :  164249.0\n",
      "Followers - Social Analytics For Instagram :  112778.0\n",
      "MeetMe - Chat and Meet New People :  97072.0\n",
      "We Heart It - Fashion, wallpapers, quotes, tattoos :  90414.0\n",
      "InsTrack for Instagram - Analytics Plus More :  85535.0\n",
      "Tango - Free Video Call, Voice and Chat :  75412.0\n",
      "LinkedIn :  71856.0\n",
      "Match™ - #1 Dating App. :  60659.0\n",
      "Skype for iPad :  60163.0\n",
      "POF - Best Dating App for Conversations :  52642.0\n",
      "Timehop :  49510.0\n"
     ]
    }
   ],
   "source": [
    "#Check for Social Networking\n",
    "check(final_ios,'Social Networking')"
   ]
  },
  {
   "cell_type": "markdown",
   "id": "3cd09fc9",
   "metadata": {},
   "source": [
    "Same applies to music apps, where a few big players like Pandora, Spotify, and Shazam heavily influence the average number:"
   ]
  },
  {
   "cell_type": "code",
   "execution_count": 37,
   "id": "eeb1f013",
   "metadata": {},
   "outputs": [
    {
     "name": "stdout",
     "output_type": "stream",
     "text": [
      "Pandora - Music & Radio :  1126879.0\n",
      "Spotify Music :  878563.0\n",
      "Shazam - Discover music, artists, videos & lyrics :  402925.0\n",
      "iHeartRadio – Free Music & Radio Stations :  293228.0\n",
      "SoundCloud - Music & Audio :  135744.0\n",
      "Magic Piano by Smule :  131695.0\n",
      "Smule Sing! :  119316.0\n",
      "TuneIn Radio - MLB NBA Audiobooks Podcasts Music :  110420.0\n",
      "Amazon Music :  106235.0\n",
      "SoundHound Song Search & Music Player :  82602.0\n",
      "Sonos Controller :  48905.0\n",
      "Bandsintown Concerts :  30845.0\n",
      "Karaoke - Sing Karaoke, Unlimited Songs! :  28606.0\n",
      "My Mixtapez Music :  26286.0\n",
      "Sing Karaoke Songs Unlimited with StarMaker :  26227.0\n",
      "Ringtones for iPhone & Ringtone Maker :  25403.0\n",
      "Musi - Unlimited Music For YouTube :  25193.0\n",
      "AutoRap by Smule :  18202.0\n",
      "Spinrilla - Mixtapes For Free :  15053.0\n",
      "Napster - Top Music & Radio :  14268.0\n"
     ]
    }
   ],
   "source": [
    "#Check for Music:\n",
    "check(final_ios,'Music')"
   ]
  },
  {
   "cell_type": "markdown",
   "id": "1cf90641",
   "metadata": {},
   "source": [
    "Next, We'll looking into average Rating to find more information"
   ]
  },
  {
   "cell_type": "code",
   "execution_count": 38,
   "id": "0f9e9d13",
   "metadata": {},
   "outputs": [
    {
     "name": "stdout",
     "output_type": "stream",
     "text": [
      "Catalogs :  4.125\n",
      "Games :  4.037086446104589\n",
      "Productivity :  4.0\n",
      "Business :  3.9705882352941178\n",
      "Shopping :  3.9702380952380953\n",
      "Music :  3.946969696969697\n",
      "Photo & Video :  3.903125\n",
      "Navigation :  3.8333333333333335\n",
      "Health & Fitness :  3.769230769230769\n",
      "Reference :  3.6666666666666665\n",
      "Education :  3.635593220338983\n",
      "Food & Drink :  3.6346153846153846\n",
      "Social Networking :  3.5943396226415096\n",
      "Entertainment :  3.5393700787401574\n",
      "Utilities :  3.5308641975308643\n",
      "Travel :  3.4875\n",
      "Weather :  3.482142857142857\n",
      "Lifestyle :  3.411764705882353\n",
      "Finance :  3.375\n",
      "News :  3.244186046511628\n",
      "Book :  3.0714285714285716\n",
      "Sports :  3.0652173913043477\n",
      "Medical :  3.0\n"
     ]
    }
   ],
   "source": [
    "#average rating per Genre for IOS\n",
    "avg(final_ios,-5,8)"
   ]
  },
  {
   "cell_type": "markdown",
   "id": "89d7ca69",
   "metadata": {},
   "source": [
    "On average rating, Top 4 are: Catalogs, Games, Productivity, Business. Let's look back on the previous average count_rating_tot we notice that Game have the most couting rating than the other three.\n",
    "As we look at average rating and average count rating. The top 4 count_rating always have 1 or 2 giant that dominate the market which we've mentioned above and our budget doesn't give us an ability to compete with them Because of that Games same to be our best options. Let's look at it :"
   ]
  },
  {
   "cell_type": "code",
   "execution_count": 39,
   "id": "6e616c05",
   "metadata": {
    "scrolled": true
   },
   "outputs": [
    {
     "name": "stdout",
     "output_type": "stream",
     "text": [
      "Clash of Clans :  2130805.0\n",
      "Temple Run :  1724546.0\n",
      "Candy Crush Saga :  961794.0\n",
      "Angry Birds :  824451.0\n",
      "Subway Surfers :  706110.0\n",
      "Solitaire :  679055.0\n",
      "CSR Racing :  677247.0\n",
      "Crossy Road - Endless Arcade Hopper :  669079.0\n",
      "Injustice: Gods Among Us :  612532.0\n",
      "Hay Day :  567344.0\n",
      "PAC-MAN :  508808.0\n",
      "DragonVale :  503230.0\n",
      "Head Soccer :  481564.0\n",
      "Despicable Me: Minion Rush :  464312.0\n",
      "The Sims™ FreePlay :  446880.0\n",
      "Sonic Dash :  418033.0\n",
      "8 Ball Pool™ :  416736.0\n",
      "Tiny Tower - Free City Building :  414803.0\n",
      "Jetpack Joyride :  405647.0\n",
      "Bike Race - Top Motorcycle Racing Games :  405007.0\n"
     ]
    }
   ],
   "source": [
    "#check for Game\n",
    "check(final_ios,'Games')"
   ]
  },
  {
   "cell_type": "markdown",
   "id": "58b85ac9",
   "metadata": {},
   "source": [
    "Leading the ranking board is Clash of Clans - 2M1 which follwed by Temple Run - 1m7, Candy Rush Saga- 960k. As we look at Top-20 board, we notice that most of these game is either from endless run game (Temple Run, Subway Surfers,...) or puzzle game (Candy Crush Saga, Angry Birds,...) and the same are true in Google play:"
   ]
  },
  {
   "cell_type": "markdown",
   "id": "a8ff7770",
   "metadata": {},
   "source": [
    "For the Google Play market, we actually have data about the number of installs, so we should be able to get a clearer picture about genre popularity. However, the install numbers don't seem precise enough — we can see that most values are open-ended (100+, 1,000+, 5,000+, etc.):"
   ]
  },
  {
   "cell_type": "markdown",
   "id": "01def388",
   "metadata": {},
   "source": [
    "First we need to clean the data. Because it's not ready to be use"
   ]
  },
  {
   "cell_type": "code",
   "execution_count": 40,
   "id": "c2b3f9fb",
   "metadata": {
    "scrolled": true
   },
   "outputs": [
    {
     "name": "stdout",
     "output_type": "stream",
     "text": [
      "{'10,000+': 904, '5,000,000+': 605, '50,000,000+': 204, '100,000+': 1024, '50,000+': 423, '1,000,000+': 1394, '10,000,000+': 935, '5,000+': 400, '500,000+': 493, '1,000,000,000+': 20, '100,000,000+': 189, '1,000+': 744, '500,000,000+': 24, '500+': 288, '100+': 613, '50+': 170, '10+': 314, '1+': 45, '5+': 70, '0+': 4, '0': 1}\n"
     ]
    }
   ],
   "source": [
    "print(freq(final_android,5))"
   ]
  },
  {
   "cell_type": "markdown",
   "id": "a8b93e14",
   "metadata": {},
   "source": [
    "One problem with this data is that is not precise. For instance, we don't know whether an app with 100,000+ installs has 100,000 installs, 200,000, or 350,000. However, we don't need very precise data for our purposes — we only want to get an idea which app genres attract the most users, and we don't need perfect precision with respect to the number of users.\n",
    "\n",
    "We're going to leave the numbers as they are, which means that we'll consider that an app with 100,000+ installs has 100,000 installs, and an app with 1,000,000+ installs has 1,000,000 installs, and so on.\n",
    "\n",
    "To perform computations, however, we'll need to convert each install number to float — this means that we need to remove the commas and the plus characters, otherwise the conversion will fail and raise an error. We'll do this directly in the loop below, where we also compute the average number of installs for each genre (category)"
   ]
  },
  {
   "cell_type": "code",
   "execution_count": 41,
   "id": "8f5d1b6d",
   "metadata": {},
   "outputs": [
    {
     "name": "stdout",
     "output_type": "stream",
     "text": [
      "{'10000': 904, '5000000': 605, '50000000': 204, '100000': 1024, '50000': 423, '1000000': 1394, '10000000': 935, '5000': 400, '500000': 493, '1000000000': 20, '100000000': 189, '1000': 744, '500000000': 24, '500': 288, '100': 613, '50': 170, '10': 314, '1': 45, '5': 70, '0': 5}\n"
     ]
    }
   ],
   "source": [
    "for row in final_android:\n",
    "    install = row[5]\n",
    "    install = install.replace('+','')\n",
    "    install = install.replace(',','')\n",
    "    row[5] = install\n",
    "print(freq(final_android,5))"
   ]
  },
  {
   "cell_type": "code",
   "execution_count": 42,
   "id": "56ff5966",
   "metadata": {},
   "outputs": [
    {
     "name": "stdout",
     "output_type": "stream",
     "text": [
      "Subway Surfers :  1000000000.0\n",
      "Temple Run 2 :  500000000.0\n",
      "Pou :  500000000.0\n",
      "My Talking Tom :  500000000.0\n",
      "Candy Crush Saga :  500000000.0\n",
      "slither.io :  100000000.0\n",
      "Zombie Tsunami :  100000000.0\n",
      "Yes day :  100000000.0\n",
      "Vector :  100000000.0\n",
      "Trivia Crack :  100000000.0\n",
      "Traffic Racer :  100000000.0\n",
      "Temple Run :  100000000.0\n",
      "Talking Tom Gold Run :  100000000.0\n",
      "Super Mario Run :  100000000.0\n",
      "Sonic Dash :  100000000.0\n",
      "Sniper 3D Gun Shooter: Free Shooting Games - FPS :  100000000.0\n",
      "Smash Hit :  100000000.0\n",
      "Skater Boy :  100000000.0\n",
      "Shadow Fight 2 :  100000000.0\n",
      "Score! Hero :  100000000.0\n"
     ]
    }
   ],
   "source": [
    "check(final_android,'GAME',1,5,0)"
   ]
  },
  {
   "cell_type": "markdown",
   "id": "ebaf3e78",
   "metadata": {},
   "source": [
    "Even though these games are top 20 in number of installation, doesn't mean it have a high rating. Let's check that:"
   ]
  },
  {
   "cell_type": "code",
   "execution_count": 43,
   "id": "d0476afb",
   "metadata": {},
   "outputs": [
    {
     "name": "stdout",
     "output_type": "stream",
     "text": [
      "Angry Birds - 4.5\n",
      "Temple Run - 4.5\n",
      "Subway Surfers - 4.5\n",
      "Candy Crush Saga - 4.5\n"
     ]
    }
   ],
   "source": [
    "#check rating IOS\n",
    "i_list = ['Temple Run','Angry Birds','Subway Surfers','Candy Crush Saga']\n",
    "for row in final_ios:\n",
    "    app_name = row[2]\n",
    "    user_rating = row[8]\n",
    "    if app_name in i_list:\n",
    "        print(app_name,'-',user_rating)"
   ]
  },
  {
   "cell_type": "code",
   "execution_count": 44,
   "id": "8bbe203b",
   "metadata": {},
   "outputs": [
    {
     "name": "stdout",
     "output_type": "stream",
     "text": [
      "Candy Crush Saga - 4.4\n",
      "Subway Surfers - 4.5\n",
      "Zombie Tsunami - 4.4\n",
      "Temple Run 2 - 4.3\n",
      "Temple Run - 4.3\n"
     ]
    }
   ],
   "source": [
    "#Check rating Android:\n",
    "a_list = ['Subway Surfers','Temple Run 2','Temple Run','Candy Crush Saga','Zombie Tsunami','Angry Birds']\n",
    "for row in final_android:\n",
    "    app_name = row[0]\n",
    "    rating = row[2]\n",
    "    if app_name in a_list:\n",
    "        print(app_name,'-',rating)"
   ]
  },
  {
   "cell_type": "markdown",
   "id": "c864b706",
   "metadata": {},
   "source": [
    "Look like these apps are not popular but they're also adored on both Ios and Android.\n",
    "However, this niche seems to be dominated by top 5 apps, so it's probably not a good idea to build similar apps since there'll be some significant competition. But there're seem so be some potential because the current game is still simple. So it's a great idea to develope it."
   ]
  },
  {
   "cell_type": "markdown",
   "id": "0a98b6eb",
   "metadata": {},
   "source": [
    "## Conclusion\n",
    "\n",
    "In this project, we analyzed data about the App Store and Google Play mobile apps with the goal of recommending an app profile that can be profitable for both markets.\n",
    "We concluded that we could build either endless run game like (Surway Surfers, Temple Run,...) or a puzzel game like (Candy Crush Sage,...) which can be profitable for both the Google Play and the App Store markets. The markets are already full of these games, so we need to add some special features besides the raw version of the games This might include: adding some impressive fashion items and some little minigame in it, ranking reward for top score players."
   ]
  }
 ],
 "metadata": {
  "kernelspec": {
   "display_name": "Python 3 (ipykernel)",
   "language": "python",
   "name": "python3"
  },
  "language_info": {
   "codemirror_mode": {
    "name": "ipython",
    "version": 3
   },
   "file_extension": ".py",
   "mimetype": "text/x-python",
   "name": "python",
   "nbconvert_exporter": "python",
   "pygments_lexer": "ipython3",
   "version": "3.10.9"
  }
 },
 "nbformat": 4,
 "nbformat_minor": 5
}
